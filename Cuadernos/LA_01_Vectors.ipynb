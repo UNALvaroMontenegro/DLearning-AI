{
 "cells": [
  {
   "cell_type": "markdown",
   "metadata": {},
   "source": [
    "<!DOCTYPE html>\n",
    "<html>\n",
    "<head>\n",
    "<title> <h1><center><span class=\"header-section-number\"> 1. </span> Vectores </h1></center></title>\n",
    "</head>\n",
    "<body>\n",
    "\n",
    "</body>\n",
    "</html>\n",
    "\n"
   ]
  },
  {
   "cell_type": "markdown",
   "metadata": {},
   "source": [
    "<h2><span class=\"header-section-number\"> 3.1 </span> Introducción </h2>\n",
    "\n",
    "En esta lección revisamos el concepto de vector. Desde el punto de vista del aprendizaje de máquina. Entendemos un vector como un contenedor de  *n* datos, cada uno de los cuales se identifica genéricamente mediante un índice. Por ejemplo supongamos que $w$ es un vector de tamaño tres. Este vector se representa genéricamente como \n",
    "\n",
    "$$\n",
    "\\begin{equation}\n",
    "w = (w_1,w_2, w_3).\n",
    "\\end{equation}\n",
    "$$\n",
    "\n",
    "En estadística es usual escribir los vectores el columna. En este caso $w$ se escribe como\n",
    "\n",
    "\n",
    "$$\n",
    "\\begin{equation}\n",
    "w = \\begin{pmatrix} w_1\\\\ w_2 \\\\ w_3\\end{pmatrix}.\n",
    "\\end{equation}\n",
    "$$\n",
    "\n",
    "\n",
    "El tipo de valores que puede contener un vector debe ser de la misma clase por convención. Por ejemplo, si $w$ es un vector de números reales, entonces *z=(3.2, 1.5, -7.2,0.0)* es un vector real de tamaño cuatro. Matemáticamente se dice el vector *z* tiene dimensión cuatro. En otras palabras, la dimension matemática de un vector es su tamaño.\n",
    "\n",
    "El contenido y tipo de datos de un vector depende del contexto en que se está utilizando. Supongamos que se trata de construir una máquina de aprendizaje que idenfique digitos escritos a mano. Lo que se acostumbra a hacer es digitalizar las imágenes correspondientes. \n",
    "\n",
    "Vamos a suponer que se obtienen imágenes en escala de grises. Esto siginifica que cada punto de la imagen digitalizada es representada internamente en el computador mediante un byte. Esto siginifica que es posible representar 256 tonos de grises, con valores enteros entre 0 (blanco) hasta 255 (negro).\n",
    "\n",
    "Un conjunto con estas características muy utilizado en el entrenamiento de máquinas de apredizaje es la base de datos MNIST (Modified National Institute of Standards and Technology database), la cual está disponible libremente en diferentes sitios de internet, así como también desde los lenguajes de programación usados en el aprendizaje de máquinas. \n",
    "\n",
    "   \n",
    "    \n",
    "La base de datos está disponible libremente en <a href=\"http://yann.lecun.com/exdb/mnist/\">MNIST database</a>, gracias a Yann Lecun, Corina Cortes y Christopher Burger. En distintos sitios de Internet pueden encontrarse los archivos en formato csv.\n",
    "\n",
    "La siguiente imagen tomada de Wikipedia muestra algunas de la imágenes de esta base de datos."
   ]
  },
  {
   "cell_type": "markdown",
   "metadata": {},
   "source": [
    "<img src=\"/files/Deep_Learning_AI_Course/Images/MnistExamples.png\" alt=\"Simply Easy Learning\" width=\"400\" height=\"200\">\n"
   ]
  },
  {
   "cell_type": "markdown",
   "metadata": {},
   "source": [
    "Para el procesamiento de las imágenes, los datos son organizados en un vector (también llamado arreglo), colocando una fila a continuación de la otra. Se obtiene entonces que cada imagen es representada por un vector binario de tamaño 784 = 28  x 28. En *NumPy* el vector $w =(1,2,3)$ se pued crear como:"
   ]
  },
  {
   "cell_type": "code",
   "execution_count": 11,
   "metadata": {},
   "outputs": [
    {
     "name": "stdout",
     "output_type": "stream",
     "text": [
      "[1 2 3]\n",
      "(3,)\n"
     ]
    }
   ],
   "source": [
    "import numpy as np\n",
    "\n",
    "w = np.array([1,2,3])\n",
    "print(w)\n",
    "print(w.shape)"
   ]
  },
  {
   "cell_type": "markdown",
   "metadata": {},
   "source": [
    "El vector columna se puede crear así:"
   ]
  },
  {
   "cell_type": "code",
   "execution_count": 12,
   "metadata": {},
   "outputs": [
    {
     "name": "stdout",
     "output_type": "stream",
     "text": [
      "[[1]\n",
      " [2]\n",
      " [3]]\n",
      "(3, 1)\n"
     ]
    }
   ],
   "source": [
    "w = np.array([[1],[2],[3]])\n",
    "print(w)\n",
    "print(w.shape)"
   ]
  },
  {
   "cell_type": "markdown",
   "metadata": {},
   "source": [
    "<h2><span class=\"header-section-number\"> 3.2 </span> Aritmética básica de vectores numéricos</h2>\n",
    "    \n",
    "Mientras no se diga lo contrario, asumiremos que los vectores que usaremos tienen el mismo tamaño. Por facilidad, en las definciones usaremos vectores de tamaño $n=3$. En realidad el tamaños de los vectores puede ser cualquier número entero $n$ y las definciones se generalizan de forma obvia."
   ]
  },
  {
   "cell_type": "markdown",
   "metadata": {},
   "source": [
    "Supongamos que $a= (a_1,a_2,a_3)$ y $b=(b_1,b_2,b_3)$ son dos vectores. La suma entre $a$ Y $b$ es un vector $c$ definido por\n",
    "\n",
    "$$\n",
    "c = a+b = (a_1+b_1, a_2+b_2,a_3+b_3)\n",
    "$$\n",
    "\n",
    "En Python escribimos"
   ]
  },
  {
   "cell_type": "code",
   "execution_count": 13,
   "metadata": {},
   "outputs": [
    {
     "name": "stdout",
     "output_type": "stream",
     "text": [
      "[ 8 10 12]\n"
     ]
    }
   ],
   "source": [
    "a = np.array([1,2,3])\n",
    "b = np.array([7,8,9])\n",
    "c = a + b\n",
    "print(c)"
   ]
  },
  {
   "cell_type": "markdown",
   "metadata": {},
   "source": [
    "Similarmente la diferencia  de vectors $a-b$ es definida por\n",
    "\n",
    "$$\n",
    "c = a-b = (a_1-b_1, a_2-b_2,a_3-b_3)\n",
    "$$"
   ]
  },
  {
   "cell_type": "code",
   "execution_count": 14,
   "metadata": {},
   "outputs": [
    {
     "name": "stdout",
     "output_type": "stream",
     "text": [
      "[-6 -6 -6]\n"
     ]
    }
   ],
   "source": [
    "a = np.array([1,2,3])\n",
    "b = np.array([7,8,9])\n",
    "c = a - b\n",
    "print(c)"
   ]
  },
  {
   "cell_type": "markdown",
   "metadata": {},
   "source": [
    "El producto de Hadamard, o producto elemento by elemento entre dos vectores se donota $a \\odot b$ y se define como\n",
    "\n",
    "$$\n",
    "c = a\\odot b = (a_1*b_1, a_2*b_2,a_3*b_3).\n",
    "$$\n",
    "\n",
    "En Pyton el producto de Hadamard se implementa simplemente usando el operador de multiplicación (*). Veamos\n"
   ]
  },
  {
   "cell_type": "code",
   "execution_count": 15,
   "metadata": {},
   "outputs": [
    {
     "name": "stdout",
     "output_type": "stream",
     "text": [
      "[ 7 16 27]\n"
     ]
    }
   ],
   "source": [
    "a = np.array([1,2,3])\n",
    "b = np.array([7,8,9])\n",
    "c = a * b\n",
    "print(c)"
   ]
  },
  {
   "cell_type": "markdown",
   "metadata": {},
   "source": [
    "La división entre vectores no es uan operación formalmente definida. En ocasiones sin embargo se requiere dividir los elementos de un vector entre los elementos de otro, elemento a elemento. Esta operación se implementa en Python simplemente usando el operador división (/)"
   ]
  },
  {
   "cell_type": "code",
   "execution_count": 16,
   "metadata": {},
   "outputs": [
    {
     "name": "stdout",
     "output_type": "stream",
     "text": [
      "[0.14285714 0.25       0.33333333]\n"
     ]
    }
   ],
   "source": [
    "a = np.array([1,2,3])\n",
    "b = np.array([7,8,9])\n",
    "c = a / b\n",
    "print(c)"
   ]
  },
  {
   "cell_type": "markdown",
   "metadata": {},
   "source": [
    "<h2><span class=\"header-section-number\"> 3.2 </span> Producto escalar de vectores</h2>\n"
   ]
  }
 ],
 "metadata": {
  "kernelspec": {
   "display_name": "Python 3",
   "language": "python",
   "name": "python3"
  },
  "language_info": {
   "codemirror_mode": {
    "name": "ipython",
    "version": 3
   },
   "file_extension": ".py",
   "mimetype": "text/x-python",
   "name": "python",
   "nbconvert_exporter": "python",
   "pygments_lexer": "ipython3",
   "version": "3.7.5"
  }
 },
 "nbformat": 4,
 "nbformat_minor": 4
}
